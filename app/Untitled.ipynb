{
 "cells": [
  {
   "cell_type": "code",
   "execution_count": 1,
   "id": "47df94df-a105-4cc8-9d68-a74c56da5e96",
   "metadata": {},
   "outputs": [],
   "source": [
    "l = [1, 2, 3, 90, 4]"
   ]
  },
  {
   "cell_type": "code",
   "execution_count": 2,
   "id": "d2cdf6fa-6a2f-491e-91c1-cba11bf3947f",
   "metadata": {},
   "outputs": [],
   "source": [
    "l.sort()\n"
   ]
  },
  {
   "cell_type": "code",
   "execution_count": 3,
   "id": "fd096365-36b5-44e8-8919-91ae135cf212",
   "metadata": {},
   "outputs": [
    {
     "data": {
      "text/plain": [
       "[1, 2, 3, 4, 90]"
      ]
     },
     "execution_count": 3,
     "metadata": {},
     "output_type": "execute_result"
    }
   ],
   "source": [
    "l"
   ]
  }
 ],
 "metadata": {
  "kernelspec": {
   "display_name": "Python 3 (ipykernel)",
   "language": "python",
   "name": "python3"
  },
  "language_info": {
   "codemirror_mode": {
    "name": "ipython",
    "version": 3
   },
   "file_extension": ".py",
   "mimetype": "text/x-python",
   "name": "python",
   "nbconvert_exporter": "python",
   "pygments_lexer": "ipython3",
   "version": "3.13.1"
  }
 },
 "nbformat": 4,
 "nbformat_minor": 5
}
